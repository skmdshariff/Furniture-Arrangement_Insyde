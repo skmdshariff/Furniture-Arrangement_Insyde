{
  "nbformat": 4,
  "nbformat_minor": 0,
  "metadata": {
    "colab": {
      "provenance": []
    },
    "kernelspec": {
      "name": "python3",
      "display_name": "Python 3"
    },
    "language_info": {
      "name": "python"
    }
  },
  "cells": [
    {
      "cell_type": "code",
      "execution_count": null,
      "metadata": {
        "id": "gwO5NAGSVxrs"
      },
      "outputs": [],
      "source": [
        "import numpy as np\n",
        "import matplotlib.pyplot as plt\n"
      ]
    },
    {
      "cell_type": "code",
      "source": [
        "# Room dimensions\n",
        "room_width = 10\n",
        "room_height = 10\n",
        "\n",
        "# Furniture list (label, width, height)\n",
        "furniture_list = [\n",
        "    {\"label\": \"Bed\", \"width\": 3, \"height\": 2},\n",
        "    {\"label\": \"Table\", \"width\": 2, \"height\": 2},\n",
        "    {\"label\": \"Sofa\", \"width\": 3, \"height\": 1}\n",
        "]\n",
        "\n",
        "# Obstacle position and size (x, y, width, height)\n",
        "obstacles = [\n",
        "    {\"x\": 4, \"y\": 4, \"width\": 2, \"height\": 2}  # Example obstacle\n",
        "]\n"
      ],
      "metadata": {
        "id": "zrI0o8X7V2np"
      },
      "execution_count": null,
      "outputs": []
    },
    {
      "cell_type": "code",
      "source": [
        "def place_furniture(room_width, room_height, furniture_list, obstacles):\n",
        "    placed_furniture = []\n",
        "    grid = np.zeros((room_height, room_width))  # Room grid (0 = empty, 1 = occupied)\n",
        "\n",
        "    # Mark obstacles on the grid\n",
        "    for obstacle in obstacles:\n",
        "        x_start = obstacle[\"x\"]\n",
        "        y_start = obstacle[\"y\"]\n",
        "        x_end = x_start + obstacle[\"width\"]\n",
        "        y_end = y_start + obstacle[\"height\"]\n",
        "        grid[y_start:y_end, x_start:x_end] = 1\n",
        "\n",
        "    # Place each piece of furniture\n",
        "    for furniture in furniture_list:\n",
        "        placed = False\n",
        "        for y in range(room_height - furniture[\"height\"] + 1):\n",
        "            for x in range(room_width - furniture[\"width\"] + 1):\n",
        "                # Check if the space is free\n",
        "                if np.all(grid[y:y + furniture[\"height\"], x:x + furniture[\"width\"]] == 0):\n",
        "                    # Mark the space as occupied\n",
        "                    grid[y:y + furniture[\"height\"], x:x + furniture[\"width\"]] = 1\n",
        "                    placed_furniture.append({\"label\": furniture[\"label\"], \"x\": x, \"y\": y,\n",
        "                                             \"width\": furniture[\"width\"], \"height\": furniture[\"height\"]})\n",
        "                    placed = True\n",
        "                    break\n",
        "            if placed:\n",
        "                break\n",
        "\n",
        "    return placed_furniture\n"
      ],
      "metadata": {
        "id": "Y2Z9z0mBV70k"
      },
      "execution_count": null,
      "outputs": []
    },
    {
      "cell_type": "code",
      "source": [
        "# Get placed furniture positions\n",
        "placed_furniture = place_furniture(room_width, room_height, furniture_list, obstacles)\n",
        "\n",
        "# Print results for debugging purposes\n",
        "print(\"Placed Furniture:\")\n",
        "for item in placed_furniture:\n",
        "    print(item)\n"
      ],
      "metadata": {
        "colab": {
          "base_uri": "https://localhost:8080/"
        },
        "id": "-RlDb8m8V_z_",
        "outputId": "0fee7da4-5197-4f2e-a655-191493ca3c3c"
      },
      "execution_count": null,
      "outputs": [
        {
          "output_type": "stream",
          "name": "stdout",
          "text": [
            "Placed Furniture:\n",
            "{'label': 'Bed', 'x': 0, 'y': 0, 'width': 3, 'height': 2}\n",
            "{'label': 'Table', 'x': 3, 'y': 0, 'width': 2, 'height': 2}\n",
            "{'label': 'Sofa', 'x': 5, 'y': 0, 'width': 3, 'height': 1}\n"
          ]
        }
      ]
    },
    {
      "cell_type": "code",
      "source": [
        "# Create plot\n",
        "plt.figure(figsize=(6, 6))\n",
        "\n",
        "# Draw room boundaries\n",
        "plt.plot([0, room_width], [0, 0], color=\"black\")  # Bottom wall\n",
        "plt.plot([0, room_width], [room_height, room_height], color=\"black\")  # Top wall\n",
        "plt.plot([0, 0], [0, room_height], color=\"black\")  # Left wall\n",
        "plt.plot([room_width, room_width], [0, room_height], color=\"black\")  # Right wall\n",
        "\n",
        "# Draw obstacles\n",
        "for obstacle in obstacles:\n",
        "    plt.gca().add_patch(plt.Rectangle((obstacle[\"x\"], obstacle[\"y\"]), obstacle[\"width\"], obstacle[\"height\"],\n",
        "                                       edgecolor=\"red\", facecolor=\"pink\", label=\"Obstacle\"))\n",
        "\n",
        "# Draw placed furniture\n",
        "for item in placed_furniture:\n",
        "    plt.gca().add_patch(plt.Rectangle((item[\"x\"], item[\"y\"]), item[\"width\"], item[\"height\"],\n",
        "                                       edgecolor=\"blue\", facecolor=\"lightblue\", label=item[\"label\"]))\n",
        "    plt.text(item[\"x\"] + item[\"width\"] / 2, item[\"y\"] + item[\"height\"] / 2,\n",
        "             item[\"label\"], color=\"black\", ha=\"center\", va=\"center\")\n",
        "\n",
        "# Set axes limits and aspect ratio\n",
        "plt.xlim(0, room_width)\n",
        "plt.ylim(0, room_height)\n",
        "plt.gca().set_aspect('equal', adjustable='box')\n",
        "\n",
        "# Add title and legend\n",
        "plt.title(\"Room Layout with Furniture and Obstacles\")\n",
        "handles_labels = plt.gca().get_legend_handles_labels()\n",
        "by_label = dict(zip(handles_labels[1], handles_labels[0]))\n",
        "plt.legend(by_label.values(), by_label.keys(), loc='upper right')\n",
        "\n",
        "# Show plot\n",
        "plt.show()\n"
      ],
      "metadata": {
        "colab": {
          "base_uri": "https://localhost:8080/",
          "height": 545
        },
        "id": "hmTlJawtWDAd",
        "outputId": "12c8f380-18e6-4c2d-8c79-6668d565bac3"
      },
      "execution_count": null,
      "outputs": [
        {
          "output_type": "display_data",
          "data": {
            "text/plain": [
              "<Figure size 600x600 with 1 Axes>"
            ],
            "image/png": "[encoded data removed]"
          },
          "metadata": {}
        }
      ]
    },
    {
      "cell_type": "code",
      "source": [
        "import numpy as np\n",
        "import pandas as pd\n",
        "\n",
        "# Generate synthetic data\n",
        "np.random.seed(42)\n",
        "num_samples = 1000\n",
        "\n",
        "# Room dimensions (width x height)\n",
        "room_sizes = np.random.randint(8, 15, size=(num_samples, 2))\n",
        "\n",
        "# Furniture dimensions (width x height)\n",
        "furniture_sizes = np.random.randint(1, 5, size=(num_samples, 2))\n",
        "\n",
        "# Obstacle positions (x, y)\n",
        "obstacle_positions = np.random.randint(0, 10, size=(num_samples, 2))\n",
        "\n",
        "# Optimal placements (center alignment as an example)\n",
        "placements = []\n",
        "for i in range(num_samples):\n",
        "    room_width, room_height = room_sizes[i]\n",
        "    furniture_width, furniture_height = furniture_sizes[i]\n",
        "    obstacle_x, obstacle_y = obstacle_positions[i]\n",
        "\n",
        "    # Default placement: center alignment avoiding obstacles\n",
        "    x_pos = (room_width - furniture_width) // 2\n",
        "    y_pos = (room_height - furniture_height) // 2\n",
        "\n",
        "    # Adjust placement if there's an obstacle\n",
        "    if (obstacle_x <= x_pos + furniture_width and\n",
        "        obstacle_x + 2 >= x_pos and\n",
        "        obstacle_y <= y_pos + furniture_height and\n",
        "        obstacle_y + 2 >= y_pos):\n",
        "        x_pos = max(0, x_pos - 1)  # Shift left\n",
        "        y_pos = max(0, y_pos - 1)  # Shift up\n",
        "\n",
        "    placements.append([x_pos, y_pos])\n",
        "\n",
        "placements = np.array(placements)\n",
        "\n",
        "# Combine features and labels into a DataFrame\n",
        "data = pd.DataFrame(\n",
        "    np.hstack((room_sizes, furniture_sizes, obstacle_positions, placements)),\n",
        "    columns=[\"room_width\", \"room_height\", \"furniture_width\", \"furniture_height\",\n",
        "             \"obstacle_x\", \"obstacle_y\", \"x_position\", \"y_position\"]\n",
        ")\n",
        "\n",
        "print(data.head())\n"
      ],
      "metadata": {
        "colab": {
          "base_uri": "https://localhost:8080/"
        },
        "id": "DWvz9jRUZEaN",
        "outputId": "8205c9d9-4a86-4cd9-e8b9-db2ee7ca3172"
      },
      "execution_count": null,
      "outputs": [
        {
          "output_type": "stream",
          "name": "stdout",
          "text": [
            "   room_width  room_height  furniture_width  furniture_height  obstacle_x  \\\n",
            "0          14           11                4                 1           4   \n",
            "1          12           14                4                 2           8   \n",
            "2          10           12                1                 3           5   \n",
            "3          12           14                2                 3           5   \n",
            "4           9           10                4                 4           8   \n",
            "\n",
            "   obstacle_y  x_position  y_position  \n",
            "0           2           5           5  \n",
            "1           3           4           6  \n",
            "2           1           4           4  \n",
            "3           2           5           5  \n",
            "4           1           2           3  \n"
          ]
        }
      ]
    },
    {
      "cell_type": "code",
      "source": [
        "from sklearn.model_selection import train_test_split\n",
        "from sklearn.linear_model import LinearRegression\n",
        "from sklearn.metrics import mean_squared_error\n",
        "\n",
        "# Split dataset into features (X) and labels (y)\n",
        "X = data[[\"room_width\", \"room_height\", \"furniture_width\", \"furniture_height\", \"obstacle_x\", \"obstacle_y\"]]\n",
        "y = data[[\"x_position\", \"y_position\"]]\n",
        "\n",
        "# Train-test split\n",
        "X_train, X_test, y_train, y_test = train_test_split(X, y, test_size=0.2, random_state=42)\n",
        "\n",
        "# Train a linear regression model\n",
        "model = LinearRegression()\n",
        "model.fit(X_train, y_train)\n",
        "\n",
        "# Evaluate the model\n",
        "y_pred = model.predict(X_test)\n",
        "mse = mean_squared_error(y_test, y_pred)\n",
        "print(f\"Mean Squared Error: {mse}\")\n",
        "\n",
        "# Test prediction for a new room configuration\n",
        "test_room = [12, 12]   # Room dimensions (width x height)\n",
        "test_furniture = [3, 4]   # Furniture dimensions (width x height)\n",
        "test_obstacle = [5, 5]   # Obstacle position (x, y)\n",
        "\n",
        "predicted_placement = model.predict([test_room + test_furniture + test_obstacle])\n",
        "print(f\"Predicted Placement (x,y): {predicted_placement}\")\n"
      ],
      "metadata": {
        "colab": {
          "base_uri": "https://localhost:8080/"
        },
        "id": "PQmDbdhvZIGb",
        "outputId": "a6784301-1055-4a31-dba9-6a05ce7d26da"
      },
      "execution_count": null,
      "outputs": [
        {
          "output_type": "stream",
          "name": "stdout",
          "text": [
            "Mean Squared Error: 0.26174534556814955\n",
            "Predicted Placement (x,y): [[3.88342476 3.35363379]]\n"
          ]
        },
        {
          "output_type": "stream",
          "name": "stderr",
          "text": [
            "/usr/local/lib/python3.11/dist-packages/sklearn/utils/validation.py:2739: UserWarning: X does not have valid feature names, but LinearRegression was fitted with feature names\n",
            "  warnings.warn(\n"
          ]
        }
      ]
    }
  ]
}