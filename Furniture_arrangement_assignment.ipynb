{
  "nbformat": 4,
  "nbformat_minor": 0,
  "metadata": {
    "colab": {
      "provenance": []
    },
    "kernelspec": {
      "name": "python3",
      "display_name": "Python 3"
    },
    "language_info": {
      "name": "python"
    }
  },
  "cells": [
    {
      "cell_type": "code",
      "execution_count": 61,
      "metadata": {
        "colab": {
          "base_uri": "https://localhost:8080/"
        },
        "id": "IwN54ZoEbfpA",
        "outputId": "0feb6360-534f-48f9-fdab-68d25daf66ed"
      },
      "outputs": [
        {
          "output_type": "stream",
          "name": "stdout",
          "text": [
            "Requirement already satisfied: opencv-python in /usr/local/lib/python3.11/dist-packages (4.11.0.86)\n",
            "Requirement already satisfied: numpy>=1.21.2 in /usr/local/lib/python3.11/dist-packages (from opencv-python) (1.26.4)\n"
          ]
        }
      ],
      "source": [
        "!pip install opencv-python"
      ]
    },
    {
      "cell_type": "code",
      "source": [
        "import numpy as np\n",
        "import matplotlib.pyplot as plt\n",
        "import cv2  # For visualization\n",
        "import random  # For generating sample data"
      ],
      "metadata": {
        "id": "VcnsP0pacDHa"
      },
      "execution_count": 62,
      "outputs": []
    },
    {
      "cell_type": "code",
      "source": [
        "# Define a function to generate synthetic room layouts\n",
        "def generate_room_data(num_samples=10):\n",
        "    data = []\n",
        "\n",
        "    for _ in range(num_samples):\n",
        "        room_width = random.randint(5, 10)  # Random room width (meters)\n",
        "        room_height = random.randint(5, 10)  # Random room height (meters)\n",
        "\n",
        "        furniture = [\n",
        "            {\"name\": \"Bed\", \"size\": (2, 1)},   # Example furniture (Width x Height)\n",
        "            {\"name\": \"Table\", \"size\": (1, 1)},\n",
        "            {\"name\": \"Chair\", \"size\": (1, 1)},\n",
        "            {\"name\": \"Sofa\", \"size\": (2, 1)}\n",
        "        ]\n",
        "\n",
        "        data.append({\"room_size\": (room_width, room_height), \"furniture\": furniture})\n",
        "\n",
        "    return data\n",
        "\n",
        "# Generate sample data\n",
        "room_data = generate_room_data(5)\n",
        "print(room_data)\n"
      ],
      "metadata": {
        "colab": {
          "base_uri": "https://localhost:8080/"
        },
        "id": "Leau9fZ8cKj-",
        "outputId": "a8939022-1245-4e75-c8d8-3e3a42e2fa38"
      },
      "execution_count": 63,
      "outputs": [
        {
          "output_type": "stream",
          "name": "stdout",
          "text": [
            "[{'room_size': (10, 6), 'furniture': [{'name': 'Bed', 'size': (2, 1)}, {'name': 'Table', 'size': (1, 1)}, {'name': 'Chair', 'size': (1, 1)}, {'name': 'Sofa', 'size': (2, 1)}]}, {'room_size': (5, 8), 'furniture': [{'name': 'Bed', 'size': (2, 1)}, {'name': 'Table', 'size': (1, 1)}, {'name': 'Chair', 'size': (1, 1)}, {'name': 'Sofa', 'size': (2, 1)}]}, {'room_size': (9, 7), 'furniture': [{'name': 'Bed', 'size': (2, 1)}, {'name': 'Table', 'size': (1, 1)}, {'name': 'Chair', 'size': (1, 1)}, {'name': 'Sofa', 'size': (2, 1)}]}, {'room_size': (9, 6), 'furniture': [{'name': 'Bed', 'size': (2, 1)}, {'name': 'Table', 'size': (1, 1)}, {'name': 'Chair', 'size': (1, 1)}, {'name': 'Sofa', 'size': (2, 1)}]}, {'room_size': (6, 9), 'furniture': [{'name': 'Bed', 'size': (2, 1)}, {'name': 'Table', 'size': (1, 1)}, {'name': 'Chair', 'size': (1, 1)}, {'name': 'Sofa', 'size': (2, 1)}]}]\n"
          ]
        }
      ]
    },
    {
      "cell_type": "code",
      "source": [
        "def draw_room_layout(room_size, furniture):\n",
        "    width, height = room_size\n",
        "    img = np.ones((height * 50, width * 50, 3), dtype=np.uint8) * 255  # Create a white room\n",
        "\n",
        "    for i, item in enumerate(furniture):\n",
        "        x, y = random.randint(0, width - item[\"size\"][0]), random.randint(0, height - item[\"size\"][1])\n",
        "        cv2.rectangle(\n",
        "            img,\n",
        "            (x * 50, y * 50),\n",
        "            ((x + item[\"size\"][0]) * 50, (y + item[\"size\"][1]) * 50),\n",
        "            (0, 0, 255),  # Red color for furniture\n",
        "            -1\n",
        "        )\n",
        "        cv2.putText(img, item[\"name\"], (x * 50 + 5, y * 50 + 25),\n",
        "                    cv2.FONT_HERSHEY_SIMPLEX, 0.5, (255, 255, 255), 1)\n",
        "\n",
        "    plt.imshow(img)\n",
        "    plt.axis(\"off\")\n",
        "    plt.show()\n",
        "\n",
        "# Test visualization\n",
        "draw_room_layout(room_data[0][\"room_size\"], room_data[0][\"furniture\"])\n"
      ],
      "metadata": {
        "colab": {
          "base_uri": "https://localhost:8080/",
          "height": 334
        },
        "id": "s6wiuUCWcu44",
        "outputId": "e67c173b-74de-47da-bc2e-bb9541efa1d6"
      },
      "execution_count": 64,
      "outputs": [
        {
          "output_type": "display_data",
          "data": {
            "text/plain": [
              "<Figure size 640x480 with 1 Axes>"
            ],
            "image/png": "[encoded data removed]"
          },
          "metadata": {}
        }
      ]
    }
  ]
}